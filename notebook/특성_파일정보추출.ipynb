{
 "cells": [
  {
   "cell_type": "code",
   "execution_count": 1,
   "metadata": {},
   "outputs": [],
   "source": [
    "import pefile\n",
    "\n",
    "def extract_fileversion(pe):\n",
    "    '''\n",
    "    파일 정보 추출\n",
    "    '''\n",
    "    pe_dict = pe.dump_dict()\n",
    "    pe_fileinfo_header = pe_dict['Version Information']\n",
    "    fileinfo_header = {}\n",
    "    \n",
    "    for entry in pe_fileinfo_header[0]:\n",
    "        title = ''\n",
    "        for key, value in entry.items():\n",
    "            if isinstance(value, str):\n",
    "                title = value\n",
    "                continue\n",
    "\n",
    "            fileinfo_header[title + '_' + key] = value['Value']\n",
    "            \n",
    "    return fileinfo_header"
   ]
  },
  {
   "cell_type": "code",
   "execution_count": 2,
   "metadata": {},
   "outputs": [],
   "source": [
    "target = 'c://Windows//notepad.exe'\n",
    "pe = pefile.PE(target)\n",
    "r = extract_fileversion(pe)"
   ]
  },
  {
   "cell_type": "code",
   "execution_count": 13,
   "metadata": {},
   "outputs": [
    {
     "name": "stdout",
     "output_type": "stream",
     "text": [
      "16\n",
      "[868, 52, 0, 4277077181, 65536, 655360, 1164115969, 655360, 1164115969, 63, 0, 262148, 1, 0, 0, 0]\n"
     ]
    }
   ],
   "source": [
    "print(len(r))\n",
    "print(list(r.values()))"
   ]
  },
  {
   "cell_type": "markdown",
   "metadata": {},
   "source": [
    "# 에러 파일\n",
    "## 실제로는 값이 비어 있지만 주피터에서는 값을 뽑는다.\n",
    "\n",
    "주피터의 오탐?"
   ]
  },
  {
   "cell_type": "code",
   "execution_count": 28,
   "metadata": {},
   "outputs": [
    {
     "name": "stdout",
     "output_type": "stream",
     "text": [
      "VS_VERSIONINFO_Length 868\n",
      "VS_VERSIONINFO_ValueLength 52\n",
      "VS_VERSIONINFO_Type 0\n",
      "VS_FIXEDFILEINFO_Signature 4277077181\n",
      "VS_FIXEDFILEINFO_StrucVersion 65536\n",
      "VS_FIXEDFILEINFO_FileVersionMS 655360\n",
      "VS_FIXEDFILEINFO_FileVersionLS 1164115969\n",
      "VS_FIXEDFILEINFO_ProductVersionMS 655360\n",
      "VS_FIXEDFILEINFO_ProductVersionLS 1164115969\n",
      "VS_FIXEDFILEINFO_FileFlagsMask 63\n",
      "VS_FIXEDFILEINFO_FileFlags 0\n",
      "VS_FIXEDFILEINFO_FileOS 262148\n",
      "VS_FIXEDFILEINFO_FileType 1\n",
      "VS_FIXEDFILEINFO_FileSubtype 0\n",
      "VS_FIXEDFILEINFO_FileDateMS 0\n",
      "VS_FIXEDFILEINFO_FileDateLS 0\n"
     ]
    }
   ],
   "source": [
    "error_target = 'C:\\\\t\\\\0c13f8be95fc557f0ac95fc533b5fa52.vir'\n",
    "error_pe = pefile.PE(target)\n",
    "error_r = extract_fileversion(pe)\n",
    "\n",
    "for key, value in error_r.items():\n",
    "    print(key, value)"
   ]
  },
  {
   "cell_type": "markdown",
   "metadata": {},
   "source": [
    "## pestudio에서 없는 것을 확인\n",
    "\n",
    "![image](./screenshot/fileinfo_error1.png)"
   ]
  },
  {
   "cell_type": "markdown",
   "metadata": {},
   "source": [
    "## 파일 속성에서 없는 것을 확인\n",
    "![image](./screenshot/fileinfo_error2.png)\n"
   ]
  }
 ],
 "metadata": {
  "kernelspec": {
   "display_name": "Python 3",
   "language": "python",
   "name": "python3"
  },
  "language_info": {
   "codemirror_mode": {
    "name": "ipython",
    "version": 3
   },
   "file_extension": ".py",
   "mimetype": "text/x-python",
   "name": "python",
   "nbconvert_exporter": "python",
   "pygments_lexer": "ipython3",
   "version": "3.7.3"
  }
 },
 "nbformat": 4,
 "nbformat_minor": 2
}

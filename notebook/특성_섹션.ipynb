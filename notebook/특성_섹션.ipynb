{
 "cells": [
  {
   "cell_type": "code",
   "execution_count": 4,
   "metadata": {},
   "outputs": [],
   "source": [
    "import pefile\n",
    "\n",
    "def get_count_suspicious_sections(pe):\n",
    "    '''\n",
    "    악성코드에서 자주 출현하는 섹션의 유/무\n",
    "    :param self:\n",
    "    :param pe:\n",
    "    :return:\n",
    "    '''\n",
    "    malicious_sections = {\n",
    "            '.rsrc': 0,\n",
    "            '.data': 0,\n",
    "            '.bss': 0,\n",
    "            '.crt': 0,\n",
    "            '.rdata': 0,\n",
    "            '.reloc': 0,\n",
    "            '.idata': 0,\n",
    "            '.data': 0,\n",
    "            '.edata':0,\n",
    "            '.sdata':0,\n",
    "            '.ndata':0,\n",
    "            '.itext':0,\n",
    "            '.tls': 0,\n",
    "            '.crt': 0,\n",
    "            '.bss': 0,\n",
    "            '.code': 0,\n",
    "        }\n",
    "    \n",
    "    try:\n",
    "        for section in pe.sections:\n",
    "            section_name = section.Name.decode('utf-8')\n",
    "            section_name = section_name.split('\\00')[0].lower()\n",
    "            \n",
    "            # 섹션 이름이 있으면 딕셔너리 값을 1로 수정\n",
    "            if section_name in malicious_sections:\n",
    "                malicious_sections[section_name] = 1\n",
    "                \n",
    "        return malicious_sections\n",
    "\n",
    "    except Exception as e:\n",
    "        print('get_count_suspicious_section is failed')\n",
    "        return None"
   ]
  },
  {
   "cell_type": "code",
   "execution_count": 6,
   "metadata": {},
   "outputs": [
    {
     "name": "stdout",
     "output_type": "stream",
     "text": [
      ".rsrc 1\n",
      ".data 1\n",
      ".bss 0\n",
      ".crt 0\n",
      ".rdata 1\n",
      ".reloc 0\n",
      ".idata 0\n",
      ".edata 0\n",
      ".sdata 0\n",
      ".ndata 1\n",
      ".itext 0\n",
      ".tls 0\n",
      ".code 0\n"
     ]
    }
   ],
   "source": [
    "target = 'c:\\\\t\\\\0c13f8be95fc557f0ac95fc533b5fa52.vir'\n",
    "pe = pefile.PE(target)\n",
    "r = get_count_suspicious_sections(pe)\n",
    "\n",
    "for key, value in r.items():\n",
    "    print(key, value)"
   ]
  },
  {
   "cell_type": "code",
   "execution_count": null,
   "metadata": {},
   "outputs": [],
   "source": []
  }
 ],
 "metadata": {
  "kernelspec": {
   "display_name": "Python 3",
   "language": "python",
   "name": "python3"
  },
  "language_info": {
   "codemirror_mode": {
    "name": "ipython",
    "version": 3
   },
   "file_extension": ".py",
   "mimetype": "text/x-python",
   "name": "python",
   "nbconvert_exporter": "python",
   "pygments_lexer": "ipython3",
   "version": "3.7.3"
  }
 },
 "nbformat": 4,
 "nbformat_minor": 2
}

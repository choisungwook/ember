{
 "cells": [
  {
   "cell_type": "code",
   "execution_count": 2,
   "metadata": {},
   "outputs": [
    {
     "name": "stdout",
     "output_type": "stream",
     "text": [
      "tls섹션이 있습니다.\n"
     ]
    }
   ],
   "source": [
    "import pefile\n",
    "\n",
    "target = 'C:\\\\t\\\\0987c3ac15d7c38370c0eb6deb2cb2a2.vir'\n",
    "tls_pe = pefile.PE(target)\n",
    "\n",
    "if hasattr(tls_pe, 'DIRECTORY_ENTRY_TLS'):\n",
    "    print('tls섹션이 있습니다.')"
   ]
  },
  {
   "cell_type": "code",
   "execution_count": null,
   "metadata": {},
   "outputs": [],
   "source": []
  }
 ],
 "metadata": {
  "kernelspec": {
   "display_name": "Python 3",
   "language": "python",
   "name": "python3"
  },
  "language_info": {
   "codemirror_mode": {
    "name": "ipython",
    "version": 3
   },
   "file_extension": ".py",
   "mimetype": "text/x-python",
   "name": "python",
   "nbconvert_exporter": "python",
   "pygments_lexer": "ipython3",
   "version": "3.7.3"
  }
 },
 "nbformat": 4,
 "nbformat_minor": 2
}

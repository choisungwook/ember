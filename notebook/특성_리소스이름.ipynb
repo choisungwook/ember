{
 "cells": [
  {
   "cell_type": "markdown",
   "metadata": {},
   "source": [
    "# 참고자료\n",
    "github peframe6: https://github.com/guelfoweb/peframe/blob/master/modules/directories.py"
   ]
  },
  {
   "cell_type": "code",
   "execution_count": 35,
   "metadata": {},
   "outputs": [],
   "source": [
    "import pefile\n",
    "\n",
    "def extract_resource_name(pe):\n",
    "    '''\n",
    "    리소스 이름 유/무\n",
    "    '''\n",
    "    maliciou_resource_name = {\n",
    "        'RT_STRING': 0,\n",
    "        'RT_DIALOG': 0,\n",
    "        'RT_GROUP_ICON': 0,\n",
    "        'RT_VERSION': 0,\n",
    "        'RT_BITMAP': 0,\n",
    "        'RT_RCDATA': 0,\n",
    "        'RT_ICON': 0,\n",
    "        'RT_GROUP_CURSOR': 0\n",
    "    }\n",
    "    \n",
    "    resource_name = []\n",
    "    \n",
    "    for resource_type in pe.DIRECTORY_ENTRY_RESOURCE.entries:\n",
    "        if resource_type.name is not None:\n",
    "            name = resource_type.name\n",
    "        else:\n",
    "            name = pefile.RESOURCE_TYPE.get(resource_type.struct.Id)        \n",
    "\n",
    "        if name:\n",
    "            resource_name.append(name)\n",
    "        else:\n",
    "            resource_name.append(resource_type.struct.Id)\n",
    "        \n",
    "    for resourcename in resource_name:\n",
    "        if maliciou_resource_name.get(resourcename) is not None:\n",
    "            maliciou_resource_name[resourcename] = 1\n",
    "            \n",
    "    return maliciou_resource_name"
   ]
  },
  {
   "cell_type": "code",
   "execution_count": 36,
   "metadata": {},
   "outputs": [
    {
     "name": "stdout",
     "output_type": "stream",
     "text": [
      "RT_STRING 0\n",
      "RT_DIALOG 1\n",
      "RT_GROUP_ICON 1\n",
      "RT_VERSION 0\n",
      "RT_BITMAP 0\n",
      "RT_RCDATA 0\n",
      "RT_ICON 1\n",
      "RT_GROUP_CURSOR 0\n"
     ]
    }
   ],
   "source": [
    "target = 'c:\\\\t\\\\0c13f8be95fc557f0ac95fc533b5fa52.vir'\n",
    "pe = pefile.PE(target)\n",
    "\n",
    "r = extract_resource_name(pe)\n",
    "for key, value in r.items():\n",
    "    print(key, value)\n",
    "                "
   ]
  }
 ],
 "metadata": {
  "kernelspec": {
   "display_name": "Python 3",
   "language": "python",
   "name": "python3"
  },
  "language_info": {
   "codemirror_mode": {
    "name": "ipython",
    "version": 3
   },
   "file_extension": ".py",
   "mimetype": "text/x-python",
   "name": "python",
   "nbconvert_exporter": "python",
   "pygments_lexer": "ipython3",
   "version": "3.7.3"
  }
 },
 "nbformat": 4,
 "nbformat_minor": 2
}
